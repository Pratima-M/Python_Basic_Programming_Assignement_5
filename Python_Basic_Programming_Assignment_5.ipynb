{
 "cells": [
  {
   "cell_type": "markdown",
   "id": "a4b6c2db",
   "metadata": {},
   "source": [
    "1.\tWrite a Python Program to Find LCM?"
   ]
  },
  {
   "cell_type": "code",
   "execution_count": 2,
   "id": "266c9aa8",
   "metadata": {},
   "outputs": [
    {
     "name": "stdout",
     "output_type": "stream",
     "text": [
      "5\n",
      "7\n",
      "35\n"
     ]
    }
   ],
   "source": [
    "num1 = int(input())\n",
    "num2 = int(input())\n",
    "if num1 > num2 :\n",
    "    max = num1\n",
    "else :\n",
    "    max = num2\n",
    "while True :\n",
    "    if max%num1 == 0 and max%num2== 0 :\n",
    "        print(max)\n",
    "        break\n",
    "    max = max + 1\n",
    "    "
   ]
  },
  {
   "cell_type": "markdown",
   "id": "a416c9d5",
   "metadata": {},
   "source": [
    "2.\tWrite a Python Program to Find HCF?"
   ]
  },
  {
   "cell_type": "code",
   "execution_count": 18,
   "id": "995eb292",
   "metadata": {},
   "outputs": [
    {
     "name": "stdout",
     "output_type": "stream",
     "text": [
      "64\n",
      "32\n",
      "32\n"
     ]
    }
   ],
   "source": [
    "num1 = int(input())\n",
    "num2 = int(input())\n",
    "if num1 > num2 :\n",
    "    min = num2\n",
    "else :\n",
    "    min = num1\n",
    "for i in range (1, min+1) :\n",
    "    if ((num1%i == 0) and (num2%i == 0)) :\n",
    "        hcf = i\n",
    "print(hcf)"
   ]
  },
  {
   "cell_type": "markdown",
   "id": "afea5925",
   "metadata": {},
   "source": [
    "3.\tWrite a Python Program to Convert Decimal to Binary, Octal and Hexadecimal?"
   ]
  },
  {
   "cell_type": "code",
   "execution_count": 19,
   "id": "39d89f4f",
   "metadata": {},
   "outputs": [
    {
     "name": "stdout",
     "output_type": "stream",
     "text": [
      "The decimal value of 125 is:\n",
      "0b1111101 in binary.\n",
      "0o175 in octal.\n",
      "0x7d in hexadecimal.\n"
     ]
    }
   ],
   "source": [
    "dec = 125\n",
    "\n",
    "print(\"The decimal value of\", dec, \"is:\")\n",
    "print(bin(dec), \"in binary.\")\n",
    "print(oct(dec), \"in octal.\")\n",
    "print(hex(dec), \"in hexadecimal.\")"
   ]
  },
  {
   "cell_type": "markdown",
   "id": "1c8d40e2",
   "metadata": {},
   "source": [
    "4.\tWrite a Python Program To Find ASCII value of a character?"
   ]
  },
  {
   "cell_type": "code",
   "execution_count": 21,
   "id": "1e851be8",
   "metadata": {},
   "outputs": [
    {
     "name": "stdout",
     "output_type": "stream",
     "text": [
      "The ASCII value of 'r' is 114\n"
     ]
    }
   ],
   "source": [
    "a = 'r'\n",
    "print(\"The ASCII value of '\" + a + \"' is\", ord(a))"
   ]
  },
  {
   "cell_type": "markdown",
   "id": "301e78ea",
   "metadata": {},
   "source": [
    "5.\tWrite a Python Program to Make a Simple Calculator with 4 basic mathematical operations?"
   ]
  },
  {
   "cell_type": "code",
   "execution_count": 29,
   "id": "bac02731",
   "metadata": {},
   "outputs": [
    {
     "name": "stdout",
     "output_type": "stream",
     "text": [
      "num1 : 5\n",
      "num2 : 2\n",
      "enter operator : *\n",
      "10\n"
     ]
    }
   ],
   "source": [
    "a = int(input('num1 : '))\n",
    "b = int(input('num2 : '))\n",
    "op = input('enter operator : ')\n",
    "if op == '+' :\n",
    "    print (a+b)\n",
    "elif op == '-' :\n",
    "    print (a-b)\n",
    "elif op == '/' :\n",
    "    print (a/b)\n",
    "else :\n",
    "    print (a*b)"
   ]
  }
 ],
 "metadata": {
  "kernelspec": {
   "display_name": "Python 3",
   "language": "python",
   "name": "python3"
  },
  "language_info": {
   "codemirror_mode": {
    "name": "ipython",
    "version": 3
   },
   "file_extension": ".py",
   "mimetype": "text/x-python",
   "name": "python",
   "nbconvert_exporter": "python",
   "pygments_lexer": "ipython3",
   "version": "3.8.8"
  }
 },
 "nbformat": 4,
 "nbformat_minor": 5
}
